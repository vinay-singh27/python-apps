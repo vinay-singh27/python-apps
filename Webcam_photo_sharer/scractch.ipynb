{
 "cells": [
  {
   "cell_type": "code",
   "execution_count": 1,
   "metadata": {},
   "outputs": [],
   "source": [
    "import cv2"
   ]
  },
  {
   "cell_type": "code",
   "execution_count": 2,
   "metadata": {},
   "outputs": [],
   "source": [
    "import cv2\n",
    "\n",
    "camera_port = 0\n",
    "camera = cv2.VideoCapture(camera_port)\n",
    "return_value, image = camera.read()\n",
    "cv2.imwrite(\"image.png\", image)\n",
    "\n",
    "camera.release() # Error is here"
   ]
  },
  {
   "cell_type": "code",
   "execution_count": null,
   "metadata": {},
   "outputs": [],
   "source": []
  }
 ],
 "metadata": {
  "interpreter": {
   "hash": "6f531e3fa4723900f8c02ee057925a3ddb264ddf431c7219f923ebf1756650b1"
  },
  "kernelspec": {
   "display_name": "Python 3.9.5 64-bit ('new_env': venv)",
   "language": "python",
   "name": "python3"
  },
  "language_info": {
   "codemirror_mode": {
    "name": "ipython",
    "version": 3
   },
   "file_extension": ".py",
   "mimetype": "text/x-python",
   "name": "python",
   "nbconvert_exporter": "python",
   "pygments_lexer": "ipython3",
   "version": "3.9.5"
  },
  "orig_nbformat": 4
 },
 "nbformat": 4,
 "nbformat_minor": 2
}
