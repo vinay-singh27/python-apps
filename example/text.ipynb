{
 "cells": [
  {
   "cell_type": "code",
   "execution_count": 4,
   "metadata": {},
   "outputs": [],
   "source": [
    "import spacy\n",
    "import pandas as pd "
   ]
  },
  {
   "cell_type": "code",
   "execution_count": 6,
   "metadata": {},
   "outputs": [
    {
     "data": {
      "text/html": [
       "<div>\n",
       "<style scoped>\n",
       "    .dataframe tbody tr th:only-of-type {\n",
       "        vertical-align: middle;\n",
       "    }\n",
       "\n",
       "    .dataframe tbody tr th {\n",
       "        vertical-align: top;\n",
       "    }\n",
       "\n",
       "    .dataframe thead th {\n",
       "        text-align: right;\n",
       "    }\n",
       "</style>\n",
       "<table border=\"1\" class=\"dataframe\">\n",
       "  <thead>\n",
       "    <tr style=\"text-align: right;\">\n",
       "      <th></th>\n",
       "      <th>opinions</th>\n",
       "      <th>id</th>\n",
       "      <th>text</th>\n",
       "    </tr>\n",
       "  </thead>\n",
       "  <tbody>\n",
       "    <tr>\n",
       "      <th>0</th>\n",
       "      <td>[{'sentiment': 'Negative', 'aspect': 'price', ...</td>\n",
       "      <td>1430</td>\n",
       "      <td>LOCATION1 is transforming and the prices w...</td>\n",
       "    </tr>\n",
       "    <tr>\n",
       "      <th>1</th>\n",
       "      <td>[{'sentiment': 'Positive', 'aspect': 'shopping...</td>\n",
       "      <td>2013</td>\n",
       "      <td>Along LOCATION1 there are lots of Electronic...</td>\n",
       "    </tr>\n",
       "    <tr>\n",
       "      <th>2</th>\n",
       "      <td>[{'sentiment': 'Positive', 'aspect': 'transit-...</td>\n",
       "      <td>1244</td>\n",
       "      <td>And LOCATION1 is ten mins direct on the tube...</td>\n",
       "    </tr>\n",
       "    <tr>\n",
       "      <th>3</th>\n",
       "      <td>[{'sentiment': 'Positive', 'aspect': 'nightlif...</td>\n",
       "      <td>209</td>\n",
       "      <td>Another option is LOCATION1 which is very ce...</td>\n",
       "    </tr>\n",
       "    <tr>\n",
       "      <th>4</th>\n",
       "      <td>[{'sentiment': 'Positive', 'aspect': 'general'...</td>\n",
       "      <td>2824</td>\n",
       "      <td>Best bet is around LOCATION2 and LOCATION1 a...</td>\n",
       "    </tr>\n",
       "  </tbody>\n",
       "</table>\n",
       "</div>"
      ],
      "text/plain": [
       "                                            opinions    id  \\\n",
       "0  [{'sentiment': 'Negative', 'aspect': 'price', ...  1430   \n",
       "1  [{'sentiment': 'Positive', 'aspect': 'shopping...  2013   \n",
       "2  [{'sentiment': 'Positive', 'aspect': 'transit-...  1244   \n",
       "3  [{'sentiment': 'Positive', 'aspect': 'nightlif...   209   \n",
       "4  [{'sentiment': 'Positive', 'aspect': 'general'...  2824   \n",
       "\n",
       "                                                text  \n",
       "0      LOCATION1 is transforming and the prices w...  \n",
       "1    Along LOCATION1 there are lots of Electronic...  \n",
       "2    And LOCATION1 is ten mins direct on the tube...  \n",
       "3    Another option is LOCATION1 which is very ce...  \n",
       "4    Best bet is around LOCATION2 and LOCATION1 a...  "
      ]
     },
     "execution_count": 6,
     "metadata": {},
     "output_type": "execute_result"
    }
   ],
   "source": [
    "data = pd.read_json(\"../data/sentihood/sentihood-train.json\")\n",
    "data.head()"
   ]
  },
  {
   "cell_type": "code",
   "execution_count": 8,
   "metadata": {},
   "outputs": [
    {
     "data": {
      "text/plain": [
       "[{'sentiment': 'Negative', 'aspect': 'price', 'target_entity': 'LOCATION1'}]"
      ]
     },
     "execution_count": 8,
     "metadata": {},
     "output_type": "execute_result"
    }
   ],
   "source": [
    "data.iloc[0]['opinions']"
   ]
  },
  {
   "cell_type": "code",
   "execution_count": null,
   "metadata": {},
   "outputs": [],
   "source": []
  }
 ],
 "metadata": {
  "interpreter": {
   "hash": "91d298b28c55e68cf932c41a9d113b3cd818af2fb06ed72864608e097070f1b8"
  },
  "kernelspec": {
   "display_name": "Python 3.9.5 ('new_env': venv)",
   "language": "python",
   "name": "python3"
  },
  "language_info": {
   "codemirror_mode": {
    "name": "ipython",
    "version": 3
   },
   "file_extension": ".py",
   "mimetype": "text/x-python",
   "name": "python",
   "nbconvert_exporter": "python",
   "pygments_lexer": "ipython3",
   "version": "3.9.5"
  },
  "orig_nbformat": 4
 },
 "nbformat": 4,
 "nbformat_minor": 2
}
